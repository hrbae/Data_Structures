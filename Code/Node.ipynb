{
  "nbformat": 4,
  "nbformat_minor": 0,
  "metadata": {
    "colab": {
      "provenance": [],
      "authorship_tag": "ABX9TyPFk5pgilHUfRpDPxano+T1",
      "include_colab_link": true
    },
    "kernelspec": {
      "name": "python3",
      "display_name": "Python 3"
    },
    "language_info": {
      "name": "python"
    }
  },
  "cells": [
    {
      "cell_type": "markdown",
      "metadata": {
        "id": "view-in-github",
        "colab_type": "text"
      },
      "source": [
        "<a href=\"https://colab.research.google.com/github/doheeeeekim/Data_Structures/blob/main/Node.ipynb\" target=\"_parent\"><img src=\"https://colab.research.google.com/assets/colab-badge.svg\" alt=\"Open In Colab\"/></a>"
      ]
    },
    {
      "cell_type": "code",
      "execution_count": null,
      "metadata": {
        "id": "U3SD1coEQ38g"
      },
      "outputs": [],
      "source": [
        "class DNode:\n",
        "  def __init__(self, d, p, n): #생성자, d: element, p: previous, n:next\n",
        "    self.data=d\n",
        "    self.prev=p\n",
        "    self.next=n\n",
        "\n",
        "  def getPrev(self):\n",
        "    return self.prev\n",
        "\n",
        "  def setPrev(self, p):\n",
        "    self.prev=p\n",
        "\n",
        "  def getNext(self):\n",
        "    return self.next\n",
        "\n",
        "  def setNext(self, p):\n",
        "    self.next=n\n",
        "\n",
        "  def getElement(self):\n",
        "    return self.data\n",
        "\n",
        "  def setElement(self, d):\n",
        "    self.data=d"
      ]
    }
  ]
}
