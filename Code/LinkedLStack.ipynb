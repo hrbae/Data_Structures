{
  "cells": [
    {
      "cell_type": "markdown",
      "metadata": {
        "colab_type": "text",
        "id": "view-in-github"
      },
      "source": [
        "<a href=\"https://colab.research.google.com/github/doheeeeekim/Data_Structures/blob/main/LinkedLStack.ipynb\" target=\"_parent\"><img src=\"https://colab.research.google.com/assets/colab-badge.svg\" alt=\"Open In Colab\"/></a>"
      ]
    },
    {
      "cell_type": "code",
      "execution_count": null,
      "metadata": {
        "colab": {
          "base_uri": "https://localhost:8080/"
        },
        "id": "gsMtPBjqYvta",
        "outputId": "1c5a2d7c-7dea-4624-eab1-f2c321a66e6c"
      },
      "outputs": [
        {
          "name": "stdout",
          "output_type": "stream",
          "text": [
            "Drive already mounted at /content/drive; to attempt to forcibly remount, call drive.mount(\"/content/drive\", force_remount=True).\n"
          ]
        }
      ],
      "source": [
        "#구글드라이브에 마운트하기\n",
        "from google.colab import drive\n",
        "drive.mount('/content/drive')\n"
      ]
    },
    {
      "cell_type": "code",
      "execution_count": null,
      "metadata": {
        "colab": {
          "base_uri": "https://localhost:8080/"
        },
        "id": "sIj1wjrMY1wn",
        "outputId": "1626daf7-0f46-47df-8d1b-f37b800c9b85"
      },
      "outputs": [
        {
          "name": "stdout",
          "output_type": "stream",
          "text": [
            "['/content', '/env/python', '/usr/lib/python310.zip', '/usr/lib/python3.10', '/usr/lib/python3.10/lib-dynload', '', '/usr/local/lib/python3.10/dist-packages', '/usr/lib/python3/dist-packages', '/usr/local/lib/python3.10/dist-packages/IPython/extensions', '/root/.ipython', '/content/drive/MyDrive/데이터구조및알고리즘']\n"
          ]
        }
      ],
      "source": [
        "#모듈을 저장한 디렉토리 확인\n",
        "import sys\n",
        "sys.path.append('/content/drive/MyDrive/데이터구조및알고리즘')\n",
        "print(sys.path)"
      ]
    },
    {
      "cell_type": "code",
      "execution_count": null,
      "metadata": {
        "colab": {
          "base_uri": "https://localhost:8080/"
        },
        "id": "Mot3qhjrZJYD",
        "outputId": "c2e022c9-bfcd-486c-8d5e-435e6dc4608d"
      },
      "outputs": [
        {
          "name": "stdout",
          "output_type": "stream",
          "text": [
            "Drive already mounted at /content/drive; to attempt to forcibly remount, call drive.mount(\"/content/drive\", force_remount=True).\n",
            "['/content', '/env/python', '/usr/lib/python310.zip', '/usr/lib/python3.10', '/usr/lib/python3.10/lib-dynload', '', '/usr/local/lib/python3.10/dist-packages', '/usr/lib/python3/dist-packages', '/usr/local/lib/python3.10/dist-packages/IPython/extensions', '/root/.ipython', '/content/drive/MyDrive/데이터구조및알고리즘', '/content/drive/MyDrive/데이터구조및알고리즘/']\n"
          ]
        }
      ],
      "source": [
        "from LinkedList import LinkedList"
      ]
    },
    {
      "cell_type": "code",
      "execution_count": null,
      "metadata": {},
      "outputs": [
        {
          "name": "stdout",
          "output_type": "stream",
          "text": [
            "There are 2 elements in the Stack: [Sangmin Jo ,Gildong Hong ]\n"
          ]
        }
      ],
      "source": [
        "class LStack:\n",
        "  def __init__(self):\n",
        "    self.size= 0\n",
        "    self.top= None\n",
        "    self.data= LinkedList()\n",
        "\n",
        "  def push(self,o):\n",
        "    self.top = self.data.insertLast(o) #맨마지막 위치에 o를 넣어주고, 마지막이 top을 가리키게\n",
        "    self.size = self.size+1\n",
        "\n",
        "  def pop(self):\n",
        "    self.size=self.size-1\n",
        "    self.top=self.top.getPrev()\n",
        "    return self.data.remove(self.top.getNext())\n",
        "\n",
        "  def isEmpty(self):\n",
        "    if self.size==0:\n",
        "      return True\n",
        "    else:\n",
        "      return False\n",
        "\n",
        "  def size(self):\n",
        "    return self.size\n",
        "\n",
        "  def printStack(self):\n",
        "    print(\"There are\",self.size,\"elements in the Stack: \", end='')\n",
        "    self.data.printList()\n",
        "\n",
        "if __name__=='__main__':\n",
        "  s=LStack()\n",
        "  s.push(\"Sangmin Jo\")\n",
        "  s.push(\"Hyerim Bae\")\n",
        "  #print(s.top)\n",
        "  s.pop()\n",
        "  s.push(\"Gildong Hong\")\n",
        "  #print(s.top)\n",
        "  s.printStack()"
      ]
    }
  ],
  "metadata": {
    "colab": {
      "authorship_tag": "ABX9TyN5KyzeAuMZAAEziEwMtfBy",
      "include_colab_link": true,
      "provenance": []
    },
    "kernelspec": {
      "display_name": "temp_venv",
      "language": "python",
      "name": "python3"
    },
    "language_info": {
      "codemirror_mode": {
        "name": "ipython",
        "version": 3
      },
      "file_extension": ".py",
      "mimetype": "text/x-python",
      "name": "python",
      "nbconvert_exporter": "python",
      "pygments_lexer": "ipython3",
      "version": "3.9.20"
    }
  },
  "nbformat": 4,
  "nbformat_minor": 0
}
