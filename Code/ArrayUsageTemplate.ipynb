{
  "nbformat": 4,
  "nbformat_minor": 0,
  "metadata": {
    "colab": {
      "provenance": [],
      "toc_visible": true,
      "include_colab_link": true
    },
    "kernelspec": {
      "name": "python3",
      "display_name": "Python 3"
    },
    "language_info": {
      "name": "python"
    }
  },
  "cells": [
    {
      "cell_type": "markdown",
      "metadata": {
        "id": "view-in-github",
        "colab_type": "text"
      },
      "source": [
        "<a href=\"https://colab.research.google.com/github/hrbae/Data_Structures/blob/main/Code/ArrayUsageTemplate.ipynb\" target=\"_parent\"><img src=\"https://colab.research.google.com/assets/colab-badge.svg\" alt=\"Open In Colab\"/></a>"
      ]
    },
    {
      "cell_type": "markdown",
      "source": [
        "# 랜덤 패키지 임포트하기"
      ],
      "metadata": {
        "id": "F9cbqqbE8Fwk"
      }
    },
    {
      "cell_type": "markdown",
      "source": [
        "#사용자의 입력을 받아 들이는 부분"
      ],
      "metadata": {
        "id": "3wsc93ermktm"
      }
    },
    {
      "cell_type": "markdown",
      "source": [
        "#리스트 형태의 배열을 생성"
      ],
      "metadata": {
        "id": "H9TDKh3Im4CW"
      }
    },
    {
      "cell_type": "markdown",
      "source": [
        "#생성된 배열을 확인"
      ],
      "metadata": {
        "id": "W4iuBkXBnC1i"
      }
    },
    {
      "cell_type": "markdown",
      "source": [
        "# 배열의 최대값 구하기"
      ],
      "metadata": {
        "id": "Wjd_LvFj8Wl-"
      }
    },
    {
      "cell_type": "markdown",
      "source": [
        "# 배열의 최대 값의 인덱스 구하기"
      ],
      "metadata": {
        "id": "kZjm3gvw8iH_"
      }
    },
    {
      "cell_type": "markdown",
      "source": [
        "# 배열 탐색"
      ],
      "metadata": {
        "id": "tt_QA_cL99Bd"
      }
    }
  ]
}