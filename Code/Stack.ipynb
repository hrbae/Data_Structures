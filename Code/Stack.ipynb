{
  "cells": [
    {
      "cell_type": "markdown",
      "metadata": {
        "colab_type": "text",
        "id": "view-in-github"
      },
      "source": [
        "<a href=\"https://colab.research.google.com/github/doheeeeekim/Data_Structures/blob/main/Stack.ipynb\" target=\"_parent\"><img src=\"https://colab.research.google.com/assets/colab-badge.svg\" alt=\"Open In Colab\"/></a>"
      ]
    },
    {
      "cell_type": "markdown",
      "metadata": {
        "id": "Gwl9Rxd4fP0Z"
      },
      "source": [
        "#List로 stack 구현하기"
      ]
    },
    {
      "cell_type": "code",
      "execution_count": null,
      "metadata": {},
      "outputs": [
        {
          "name": "stdout",
          "output_type": "stream",
          "text": [
            "There are 1 element: [Hyerim Bae ]\n"
          ]
        }
      ],
      "source": [
        "class Stack:\n",
        "    def __init__(self,d): #입력, 초기화\n",
        "      self.top=-1\n",
        "      self.dim=d\n",
        "      self.data=[0]*d\n",
        "\n",
        "    def push(self, o):\n",
        "      if(self.top==len(self.data)-1): #Stack이 가득 찬 경우\n",
        "        self.data=self.data+[0]*self.dim #원하는 dimension만큼 늘려줌\n",
        "      else:\n",
        "        self.top=self.top+1\n",
        "        self.data[self.top]=o\n",
        "\n",
        "    def pop(self):\n",
        "      if self.top<0:\n",
        "        print(\"Stack is Empty\")\n",
        "        return None\n",
        "      else:\n",
        "        self.top=self.top-1\n",
        "        return self.data[self.top]\n",
        "\n",
        "    def isEmpty(self):\n",
        "      if self.top<0:\n",
        "        return True\n",
        "      else:\n",
        "        return False\n",
        "\n",
        "    def size(self):\n",
        "      return self.top+1\n",
        "\n",
        "    def printStack(self):\n",
        "      print(\"There are\", self.size(), \"element: \", end='')\n",
        "      print('[', end='')\n",
        "      for i in range(0, self.size()):\n",
        "        if i==self.size()-1:\n",
        "          print(self.data[i], ']')\n",
        "        else:\n",
        "          print(self.data[i],',', end='')\n",
        "\n",
        "if __name__=='__main__':\n",
        "  s=Stack(2)\n",
        "  s.push(\"Gildong Hong\")\n",
        "  s.push(\"Sangmin Jo\")\n",
        "  s.pop()\n",
        "  s.push(\"Gilsun Hong\")\n",
        "  s.pop()\n",
        "  s.pop()\n",
        "  s.push(\"Hyerim Bae\")\n",
        "\n",
        "  #print(s.top)\n",
        "\n",
        "  s.printStack()\n"
      ]
    }
  ],
  "metadata": {
    "colab": {
      "include_colab_link": true,
      "provenance": []
    },
    "kernelspec": {
      "display_name": "temp_venv",
      "language": "python",
      "name": "python3"
    },
    "language_info": {
      "codemirror_mode": {
        "name": "ipython",
        "version": 3
      },
      "file_extension": ".py",
      "mimetype": "text/x-python",
      "name": "python",
      "nbconvert_exporter": "python",
      "pygments_lexer": "ipython3",
      "version": "3.9.20"
    }
  },
  "nbformat": 4,
  "nbformat_minor": 0
}
