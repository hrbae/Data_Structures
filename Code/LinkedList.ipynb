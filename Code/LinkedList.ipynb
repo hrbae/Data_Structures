{
  "nbformat": 4,
  "nbformat_minor": 0,
  "metadata": {
    "colab": {
      "provenance": [],
      "include_colab_link": true
    },
    "kernelspec": {
      "name": "python3",
      "display_name": "Python 3"
    },
    "language_info": {
      "name": "python"
    }
  },
  "cells": [
    {
      "cell_type": "markdown",
      "metadata": {
        "id": "view-in-github",
        "colab_type": "text"
      },
      "source": [
        "<a href=\"https://colab.research.google.com/github/hrbae/Data_Structures/blob/main/Code/LinkedList.ipynb\" target=\"_parent\"><img src=\"https://colab.research.google.com/assets/colab-badge.svg\" alt=\"Open In Colab\"/></a>"
      ]
    },
    {
      "cell_type": "code",
      "execution_count": 1,
      "metadata": {
        "colab": {
          "base_uri": "https://localhost:8080/"
        },
        "id": "LYgXkvi8aIQw",
        "outputId": "9a432a37-105c-42d0-95f3-28783d2f99ca"
      },
      "outputs": [
        {
          "output_type": "stream",
          "name": "stdout",
          "text": [
            "Mounted at /content/drive\n"
          ]
        }
      ],
      "source": [
        "from google.colab import drive\n",
        "drive.mount('/content/drive')"
      ]
    },
    {
      "cell_type": "code",
      "source": [
        "#모듈을 저장한 디렉토리 확인\n",
        "import sys\n",
        "sys.path.append('/content/drive/MyDrive/Colab Notebooks/Data_Structures')\n",
        "print(sys.path)\n"
      ],
      "metadata": {
        "colab": {
          "base_uri": "https://localhost:8080/"
        },
        "id": "_RcEZ0WTbPXS",
        "outputId": "af2ca459-9051-4a52-d425-0de09f217fd8"
      },
      "execution_count": 15,
      "outputs": [
        {
          "output_type": "stream",
          "name": "stdout",
          "text": [
            "['/content', '/env/python', '/usr/lib/python311.zip', '/usr/lib/python3.11', '/usr/lib/python3.11/lib-dynload', '', '/usr/local/lib/python3.11/dist-packages', '/usr/lib/python3/dist-packages', '/usr/local/lib/python3.11/dist-packages/IPython/extensions', '/root/.ipython', '/content/drive/MyDrive/데이터구조및알고리즘', '/content/drive/MyDrive/Data_Structures', '/content/drive/MyDrive/Colab\\\\ Notebooks/Data_Structures', '/content/drive/MyDrive/Colab Notebooks/Data_Structures']\n"
          ]
        }
      ]
    },
    {
      "cell_type": "code",
      "source": [
        "from DS_Class.Node import DNode"
      ],
      "metadata": {
        "id": "s07ourWXcAWS"
      },
      "execution_count": 16,
      "outputs": []
    },
    {
      "cell_type": "code",
      "source": [
        "class LinkedList:\n",
        "\n",
        "  def __init__(self):\n",
        "    self.head=DNode(\"head\",None, None)\n",
        "    self.trailer=DNode(\"trailer\",self.head,None)\n",
        "    self.head.setNext(self.trailer)\n",
        "    self.numElem=0\n",
        "\n",
        "  def isEmpty(self):\n",
        "        if(self.numElem==0):\n",
        "            return True\n",
        "        else:\n",
        "            return False\n",
        "\n",
        "  def size(self):\n",
        "        #return self.numElem\n",
        "        size=0\n",
        "        cur=self.head\n",
        "        while not cur.getNext() == self.trailer:\n",
        "            cur=cur.getNext()\n",
        "            size=size+1\n",
        "        return size\n",
        "\n",
        "  def First(self):\n",
        "    if self.numElem==0:\n",
        "      print(\"원소가 없습니다.\")\n",
        "    else:\n",
        "      return self.head.getNext()\n",
        "\n",
        "  def Last(self):\n",
        "    if self.numElem==0:\n",
        "      print(\"원소가 없습니다.\")\n",
        "    else:\n",
        "      return self.trailer.getPrev()\n",
        "\n",
        "\n",
        "  def insertFirst(self,elem):\n",
        "    v=DNode(elem, self.head, self.head.getNext())\n",
        "    (self.head.getNext()).setPrev(v)\n",
        "    self.head.setNext(v)\n",
        "    self.numElem=self.numElem+1\n",
        "    return v\n",
        "\n",
        "  def insertLast(self,elem):\n",
        "    v=DNode(elem, self.trailer.getPrev(), self.trailer)\n",
        "    (self.trailer.getPrev()).setNext(v)\n",
        "    self.trailer.setPrev(v)\n",
        "    self.numElem=self.numElem+1\n",
        "    return v\n",
        "\n",
        "  def insertAfter(self, pos, elem):\n",
        "    v=DNode(elem, pos, pos.getNext())\n",
        "    (pos.getNext()).setPrev(v)\n",
        "    pos.setNext(v)\n",
        "    self.NumElem=self.numElem+1\n",
        "    return v\n",
        "\n",
        "  def insertBefore(self, pos, elem):\n",
        "    v=DNode(elem, pos.getPrev(), pos)\n",
        "    (pos.getPrev()).setNext(v)\n",
        "    pos.setPrev(v)\n",
        "    self.NumElem=self.numElem+1\n",
        "    return v\n",
        "\n",
        "  def remove(self, pos):\n",
        "    elem=pos.getElement()\n",
        "    pos.getPrev().setNext(pos.getNext())\n",
        "    pos.getNext().setPrev(pos.getPrev())\n",
        "    pos.setPrev(None)\n",
        "    pos.setNext(None)\n",
        "    self.numElem=self.numElem-1\n",
        "    return elem\n",
        "\n",
        "  def replaceElement(self, pos, elem):\n",
        "    e=pos.getElement()\n",
        "    pos.setElement(elem)\n",
        "    return e\n",
        "\n",
        "  def printList(self):\n",
        "    cur=self.head\n",
        "    print(\"[\", end='')\n",
        "    while cur!=self.trailer:\n",
        "      if cur!=self.head:\n",
        "        if cur.getNext() !=self.trailer:\n",
        "          print(cur.data,',',end='')\n",
        "        else:\n",
        "          print(cur.data,']',end='')\n",
        "      cur=cur.getNext()\n",
        "\n",
        "if __name__=='__main__':\n",
        "    ll= LinkedList()\n",
        "    ll.insertFirst(\"111\")\n",
        "    ll.insertFirst(\"222\")\n",
        "    p1=ll.insertFirst(\"333\")\n",
        "    p2=ll.insertAfter(p1,\"444\")\n",
        "    p3=ll.insertAfter(p2,\"555\")\n",
        "    ll.insertBefore(p3,\"666\")\n",
        "    ll.remove(p2)\n",
        "\n",
        "    ll.printList()\n"
      ],
      "metadata": {
        "colab": {
          "base_uri": "https://localhost:8080/"
        },
        "id": "RjQ4XQGvdK17",
        "outputId": "b6ce182f-6820-4bf7-8068-8468097276d0"
      },
      "execution_count": 17,
      "outputs": [
        {
          "output_type": "stream",
          "name": "stdout",
          "text": [
            "[333 ,666 ,555 ,222 ,111 ]"
          ]
        }
      ]
    }
  ]
}