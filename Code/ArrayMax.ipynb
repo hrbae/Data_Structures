{
  "nbformat": 4,
  "nbformat_minor": 0,
  "metadata": {
    "colab": {
      "provenance": [],
      "include_colab_link": true
    },
    "kernelspec": {
      "name": "python3",
      "display_name": "Python 3"
    },
    "language_info": {
      "name": "python"
    }
  },
  "cells": [
    {
      "cell_type": "markdown",
      "metadata": {
        "id": "view-in-github",
        "colab_type": "text"
      },
      "source": [
        "<a href=\"https://colab.research.google.com/github/hrbae/Data_Structures/blob/main/Code/ArrayMax.ipynb\" target=\"_parent\"><img src=\"https://colab.research.google.com/assets/colab-badge.svg\" alt=\"Open In Colab\"/></a>"
      ]
    },
    {
      "cell_type": "code",
      "execution_count": 3,
      "metadata": {
        "id": "5jWDATKXlO9B"
      },
      "outputs": [],
      "source": [
        "from random import *"
      ]
    },
    {
      "cell_type": "markdown",
      "source": [
        "#사용자의 입력을 받아 들이는 부분"
      ],
      "metadata": {
        "id": "3wsc93ermktm"
      }
    },
    {
      "cell_type": "code",
      "source": [
        "n= int(input(\"몇 개의 숫자를 생성할까요?\"))"
      ],
      "metadata": {
        "colab": {
          "base_uri": "https://localhost:8080/"
        },
        "id": "3U6mA15VmGBf",
        "outputId": "8331719a-3540-4519-b82e-c11f78feea55"
      },
      "execution_count": 4,
      "outputs": [
        {
          "name": "stdout",
          "output_type": "stream",
          "text": [
            "몇 개의 숫자를 생성할까요?10\n"
          ]
        }
      ]
    },
    {
      "cell_type": "markdown",
      "source": [
        "#리스트 형태의 배열을 생성"
      ],
      "metadata": {
        "id": "H9TDKh3Im4CW"
      }
    },
    {
      "cell_type": "code",
      "source": [
        "A=[]"
      ],
      "metadata": {
        "id": "0503KK9QmL1s"
      },
      "execution_count": 5,
      "outputs": []
    },
    {
      "cell_type": "code",
      "source": [
        "for i in range (0,n):\n",
        "  A.append(randint(1,100)) #무작위 생성된 숫자를 A에 추가"
      ],
      "metadata": {
        "id": "KLnI-6i3mN_0"
      },
      "execution_count": 6,
      "outputs": []
    },
    {
      "cell_type": "markdown",
      "source": [
        "#생성된 배열을 확인"
      ],
      "metadata": {
        "id": "W4iuBkXBnC1i"
      }
    },
    {
      "cell_type": "code",
      "source": [
        "print(A)"
      ],
      "metadata": {
        "colab": {
          "base_uri": "https://localhost:8080/"
        },
        "id": "YebgJqGlmb6w",
        "outputId": "508178c4-6102-4380-a604-e23ff94aae14"
      },
      "execution_count": 7,
      "outputs": [
        {
          "output_type": "stream",
          "name": "stdout",
          "text": [
            "[30, 32, 70, 14, 43, 95, 1, 19, 49, 92]\n"
          ]
        }
      ]
    },
    {
      "cell_type": "code",
      "source": [
        "max = -1"
      ],
      "metadata": {
        "id": "r9X1N-PrnMo0"
      },
      "execution_count": 8,
      "outputs": []
    },
    {
      "cell_type": "code",
      "source": [
        "for i in range(len(A)):\n",
        "  if A[i] > max:\n",
        "    max = A[i]"
      ],
      "metadata": {
        "id": "fA_sxxeOnQMu"
      },
      "execution_count": 9,
      "outputs": []
    },
    {
      "cell_type": "code",
      "source": [
        "print(\"가장 큰 숫자는:\", max)"
      ],
      "metadata": {
        "colab": {
          "base_uri": "https://localhost:8080/"
        },
        "id": "leekAVgvniRc",
        "outputId": "b12672c0-d6c4-4e37-8673-b9cf6836c432"
      },
      "execution_count": 10,
      "outputs": [
        {
          "output_type": "stream",
          "name": "stdout",
          "text": [
            "가장 큰 숫자는: 95\n"
          ]
        }
      ]
    },
    {
      "cell_type": "code",
      "source": [
        "def maxArray(A):\n",
        "  max = -1\n",
        "  for i in range(len(A)):\n",
        "    if A[i]> max:\n",
        "      max=A[i]\n",
        "  return max"
      ],
      "metadata": {
        "id": "o_WrPXODnpq0"
      },
      "execution_count": 11,
      "outputs": []
    },
    {
      "cell_type": "code",
      "source": [
        "maxArray(A)"
      ],
      "metadata": {
        "colab": {
          "base_uri": "https://localhost:8080/"
        },
        "id": "NYPVZKZLn_Rh",
        "outputId": "ebbd7a1f-27ef-4e8c-8ffc-78fdaa709d7f"
      },
      "execution_count": 12,
      "outputs": [
        {
          "output_type": "execute_result",
          "data": {
            "text/plain": [
              "95"
            ]
          },
          "metadata": {},
          "execution_count": 12
        }
      ]
    }
  ]
}