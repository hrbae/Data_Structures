{
  "cells": [
    {
      "cell_type": "markdown",
      "metadata": {
        "colab_type": "text",
        "id": "view-in-github"
      },
      "source": [
        "<a href=\"https://colab.research.google.com/github/doheeeeekim/Data_Structures/blob/main/Queue.ipynb\" target=\"_parent\"><img src=\"https://colab.research.google.com/assets/colab-badge.svg\" alt=\"Open In Colab\"/></a>"
      ]
    },
    {
      "cell_type": "code",
      "execution_count": null,
      "metadata": {},
      "outputs": [
        {
          "name": "stdout",
          "output_type": "stream",
          "text": [
            "['Python', '1', 'Datastructure', 'Algorithm', 'Sangmin Jo']\n",
            "There are 4 elements[Algorithm ,Sangmin Jo ,Python ,1 ]\n"
          ]
        }
      ],
      "source": [
        "#배열을 사용한 Queue만들기\n",
        "class ArrayQueue:\n",
        "  def __init__(self, N):\n",
        "    self.dim=N\n",
        "    self.data=[0]*N\n",
        "    self.front=0\n",
        "    self.rear=0\n",
        "\n",
        "  def isEmpty(self):\n",
        "    return(self.front==self.rear)\n",
        "\n",
        "  def size(self):\n",
        "    return(self.dim-self.front+self.rear)%self.dim\n",
        "\n",
        "  def enqueue(self, o):\n",
        "    if self.size()==self.dim-1:\n",
        "      print(\"Full Queue\")\n",
        "    else:\n",
        "      self.data[self.rear]=o\n",
        "      self.rear=(self.rear+1)%self.dim\n",
        "\n",
        "  def dequeue(self):\n",
        "    if self.isEmpty():\n",
        "      print(\"Empty Queue\")\n",
        "    else:\n",
        "      o=self.data[self.front]\n",
        "      self.front=(self.front+1)%self.dim\n",
        "\n",
        "  def printQueue(self):\n",
        "    print(\"There are\", self.size(),\"elements\", end='')\n",
        "    print('[',end='')\n",
        "    cur=self.front\n",
        "    while cur != self.rear:\n",
        "      if ((cur+1)%self.dim) ==self.rear:\n",
        "        print(self.data[cur],']')\n",
        "      else:\n",
        "        print(self.data[cur],',',end='')\n",
        "      cur=(cur+1)%self.dim\n",
        "\n",
        "if __name__=='__main__': #인터프리터\n",
        "  q=ArrayQueue(5)\n",
        "  q.enqueue(\"Hyerim Bae\")\n",
        "  q.enqueue(\"Gildong Hong\")\n",
        "  q.dequeue()\n",
        "  q.enqueue(\"Datastructure\")\n",
        "  q.enqueue(\"Algorithm\")\n",
        "  q.dequeue()\n",
        "  q.dequeue()\n",
        "  q.enqueue(\"Sangmin Jo\")\n",
        "  q.enqueue(\"Python\")\n",
        "  q.enqueue(\"1\")\n",
        "\n",
        "  print(q.data)\n",
        "  q.printQueue()"
      ]
    }
  ],
  "metadata": {
    "colab": {
      "authorship_tag": "ABX9TyN0h12ioqRAKDrvEKbtDnjs",
      "include_colab_link": true,
      "provenance": []
    },
    "kernelspec": {
      "display_name": "temp_venv",
      "language": "python",
      "name": "python3"
    },
    "language_info": {
      "codemirror_mode": {
        "name": "ipython",
        "version": 3
      },
      "file_extension": ".py",
      "mimetype": "text/x-python",
      "name": "python",
      "nbconvert_exporter": "python",
      "pygments_lexer": "ipython3",
      "version": "3.9.20"
    }
  },
  "nbformat": 4,
  "nbformat_minor": 0
}
