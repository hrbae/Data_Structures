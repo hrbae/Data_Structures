{
  "nbformat": 4,
  "nbformat_minor": 0,
  "metadata": {
    "colab": {
      "provenance": [],
      "toc_visible": true,
      "include_colab_link": true
    },
    "kernelspec": {
      "name": "python3",
      "display_name": "Python 3"
    },
    "language_info": {
      "name": "python"
    }
  },
  "cells": [
    {
      "cell_type": "markdown",
      "metadata": {
        "id": "view-in-github",
        "colab_type": "text"
      },
      "source": [
        "<a href=\"https://colab.research.google.com/github/hrbae/Data_Structures/blob/main/Code/ArrayUsage.ipynb\" target=\"_parent\"><img src=\"https://colab.research.google.com/assets/colab-badge.svg\" alt=\"Open In Colab\"/></a>"
      ]
    },
    {
      "cell_type": "markdown",
      "source": [
        "# 랜덤 패키지 임포트하기"
      ],
      "metadata": {
        "id": "F9cbqqbE8Fwk"
      }
    },
    {
      "cell_type": "code",
      "execution_count": 1,
      "metadata": {
        "id": "5jWDATKXlO9B"
      },
      "outputs": [],
      "source": [
        "from random import *"
      ]
    },
    {
      "cell_type": "markdown",
      "source": [
        "#사용자의 입력을 받아 들이는 부분"
      ],
      "metadata": {
        "id": "3wsc93ermktm"
      }
    },
    {
      "cell_type": "code",
      "source": [
        "n= int(input(\"몇 개의 숫자를 생성할까요?\"))"
      ],
      "metadata": {
        "colab": {
          "base_uri": "https://localhost:8080/"
        },
        "id": "3U6mA15VmGBf",
        "outputId": "4be3b74b-ae8f-4e0d-ae3d-560bffe3c990"
      },
      "execution_count": 13,
      "outputs": [
        {
          "name": "stdout",
          "output_type": "stream",
          "text": [
            "몇 개의 숫자를 생성할까요?10\n"
          ]
        }
      ]
    },
    {
      "cell_type": "markdown",
      "source": [
        "#리스트 형태의 배열을 생성"
      ],
      "metadata": {
        "id": "H9TDKh3Im4CW"
      }
    },
    {
      "cell_type": "code",
      "source": [
        "A=[]"
      ],
      "metadata": {
        "id": "0503KK9QmL1s"
      },
      "execution_count": 5,
      "outputs": []
    },
    {
      "cell_type": "code",
      "source": [
        "for i in range (0,n):\n",
        "  A.append(randint(1,100)) #무작위 생성된 숫자를 A에 추가"
      ],
      "metadata": {
        "id": "KLnI-6i3mN_0"
      },
      "execution_count": 6,
      "outputs": []
    },
    {
      "cell_type": "markdown",
      "source": [
        "#생성된 배열을 확인"
      ],
      "metadata": {
        "id": "W4iuBkXBnC1i"
      }
    },
    {
      "cell_type": "code",
      "source": [
        "print(A)"
      ],
      "metadata": {
        "colab": {
          "base_uri": "https://localhost:8080/"
        },
        "id": "YebgJqGlmb6w",
        "outputId": "032738c8-6f77-4014-cd05-34f4391f5d1a"
      },
      "execution_count": 7,
      "outputs": [
        {
          "output_type": "stream",
          "name": "stdout",
          "text": [
            "[89, 100, 16, 17, 9, 13, 93, 10, 77, 68]\n"
          ]
        }
      ]
    },
    {
      "cell_type": "markdown",
      "source": [
        "# 배열의 최대값 구하기"
      ],
      "metadata": {
        "id": "Wjd_LvFj8Wl-"
      }
    },
    {
      "cell_type": "code",
      "source": [
        "max = -1"
      ],
      "metadata": {
        "id": "r9X1N-PrnMo0"
      },
      "execution_count": 8,
      "outputs": []
    },
    {
      "cell_type": "code",
      "source": [
        "for i in range(len(A)):\n",
        "  if A[i] > max:\n",
        "    max = A[i]"
      ],
      "metadata": {
        "id": "fA_sxxeOnQMu"
      },
      "execution_count": 9,
      "outputs": []
    },
    {
      "cell_type": "code",
      "source": [
        "print(\"가장 큰 숫자는:\", max)"
      ],
      "metadata": {
        "colab": {
          "base_uri": "https://localhost:8080/"
        },
        "id": "leekAVgvniRc",
        "outputId": "3fdc0cea-820b-49f0-9013-d372f8211c07"
      },
      "execution_count": 10,
      "outputs": [
        {
          "output_type": "stream",
          "name": "stdout",
          "text": [
            "가장 큰 숫자는: 100\n"
          ]
        }
      ]
    },
    {
      "cell_type": "code",
      "source": [
        "def maxArray(A):\n",
        "  max = -1\n",
        "  for i in range(len(A)):\n",
        "    if A[i]> max:\n",
        "      max=A[i]\n",
        "  return max"
      ],
      "metadata": {
        "id": "o_WrPXODnpq0"
      },
      "execution_count": 11,
      "outputs": []
    },
    {
      "cell_type": "code",
      "source": [
        "maxArray(A)"
      ],
      "metadata": {
        "colab": {
          "base_uri": "https://localhost:8080/"
        },
        "id": "NYPVZKZLn_Rh",
        "outputId": "ac22ec85-7115-4274-cb38-00e3d7a6b317"
      },
      "execution_count": 12,
      "outputs": [
        {
          "output_type": "execute_result",
          "data": {
            "text/plain": [
              "100"
            ]
          },
          "metadata": {},
          "execution_count": 12
        }
      ]
    },
    {
      "cell_type": "markdown",
      "source": [
        "# 배열의 최대 값의 인덱스 구하기"
      ],
      "metadata": {
        "id": "kZjm3gvw8iH_"
      }
    },
    {
      "cell_type": "code",
      "source": [
        "def maxArrayIndex(A):\n",
        "  max = -1\n",
        "  max_index=-1\n",
        "  for i in range(len(A)):\n",
        "    if A[i]> max:\n",
        "      max=A[i]\n",
        "      max_index=i\n",
        "  return max_index"
      ],
      "metadata": {
        "id": "hOtGsOgh85N_"
      },
      "execution_count": 16,
      "outputs": []
    },
    {
      "cell_type": "code",
      "source": [
        "print(\"가장 큰 수는 \", (maxArrayIndex(A)+1), \"번째 있습니다.\")"
      ],
      "metadata": {
        "colab": {
          "base_uri": "https://localhost:8080/"
        },
        "id": "ayv7-U239EKv",
        "outputId": "289bd3b7-9a15-46d3-ac97-eba483cee65c"
      },
      "execution_count": 19,
      "outputs": [
        {
          "output_type": "stream",
          "name": "stdout",
          "text": [
            "가장 큰 수는  2 번째 있습니다.\n"
          ]
        }
      ]
    },
    {
      "cell_type": "markdown",
      "source": [
        "# 배열 탐색"
      ],
      "metadata": {
        "id": "tt_QA_cL99Bd"
      }
    },
    {
      "cell_type": "code",
      "source": [
        "def ArraySearch(A, x):\n",
        "  for i in range(len(A)):\n",
        "    if A[i]==x:\n",
        "      return i\n",
        "  return -1\n"
      ],
      "metadata": {
        "id": "KGJZ57Xp-DHh"
      },
      "execution_count": 20,
      "outputs": []
    },
    {
      "cell_type": "code",
      "source": [
        "f=ArraySearch(A,2)\n",
        "if f>0:\n",
        "  print(\"찾는 숫자는 \", (f+1), \"번째 있습니다.\")\n",
        "else:\n",
        "  print(\"찻는 숫자는 배열 안에 없습니다.\")"
      ],
      "metadata": {
        "colab": {
          "base_uri": "https://localhost:8080/"
        },
        "id": "J3DzATsH-Vfh",
        "outputId": "913a562d-51f8-4b26-ad88-2d92232f3027"
      },
      "execution_count": 24,
      "outputs": [
        {
          "output_type": "stream",
          "name": "stdout",
          "text": [
            "찻는 숫자는 배열 안에 없습니다.\n"
          ]
        }
      ]
    }
  ]
}