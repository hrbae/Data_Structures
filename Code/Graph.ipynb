{
  "nbformat": 4,
  "nbformat_minor": 0,
  "metadata": {
    "colab": {
      "provenance": [],
      "authorship_tag": "ABX9TyNBIGWMgAVPdXWk+W/P2wDW",
      "include_colab_link": true
    },
    "kernelspec": {
      "name": "python3",
      "display_name": "Python 3"
    },
    "language_info": {
      "name": "python"
    }
  },
  "cells": [
    {
      "cell_type": "markdown",
      "metadata": {
        "id": "view-in-github",
        "colab_type": "text"
      },
      "source": [
        "<a href=\"https://colab.research.google.com/github/doheeeeekim/Data_Structures/blob/main/Graph.ipynb\" target=\"_parent\"><img src=\"https://colab.research.google.com/assets/colab-badge.svg\" alt=\"Open In Colab\"/></a>"
      ]
    },
    {
      "cell_type": "code",
      "execution_count": null,
      "metadata": {
        "colab": {
          "base_uri": "https://localhost:8080/"
        },
        "id": "7NuPOfNnxJfI",
        "outputId": "5d99d2aa-f954-4da9-9c62-c0cd090979b3"
      },
      "outputs": [
        {
          "output_type": "stream",
          "name": "stdout",
          "text": [
            "Drive already mounted at /content/drive; to attempt to forcibly remount, call drive.mount(\"/content/drive\", force_remount=True).\n"
          ]
        }
      ],
      "source": [
        "from google.colab import drive\n",
        "drive.mount('/content/drive')"
      ]
    },
    {
      "cell_type": "code",
      "source": [
        "import sys\n",
        "sys.path.append('/content/drive/MyDrive/데이터구조및알고리즘')\n",
        "print(sys.path)"
      ],
      "metadata": {
        "colab": {
          "base_uri": "https://localhost:8080/"
        },
        "id": "Yfo9WjKexXgj",
        "outputId": "66e993f1-95f6-42e4-b3b4-b0893bedc2ee"
      },
      "execution_count": null,
      "outputs": [
        {
          "output_type": "stream",
          "name": "stdout",
          "text": [
            "['/content', '/env/python', '/usr/lib/python310.zip', '/usr/lib/python3.10', '/usr/lib/python3.10/lib-dynload', '', '/usr/local/lib/python3.10/dist-packages', '/usr/lib/python3/dist-packages', '/usr/local/lib/python3.10/dist-packages/IPython/extensions', '/root/.ipython', '/content/drive/MyDrive/데이터구조및알고리즘']\n"
          ]
        }
      ]
    },
    {
      "cell_type": "code",
      "source": [
        "from LinkedList import LinkedList\n",
        "from myvector import MyVector"
      ],
      "metadata": {
        "id": "XF6pBq8pxkCc",
        "colab": {
          "base_uri": "https://localhost:8080/"
        },
        "outputId": "75af8ee8-486b-42c8-9fa4-146cd045d0d6"
      },
      "execution_count": null,
      "outputs": [
        {
          "output_type": "stream",
          "name": "stdout",
          "text": [
            "Drive already mounted at /content/drive; to attempt to forcibly remount, call drive.mount(\"/content/drive\", force_remount=True).\n",
            "['/content', '/env/python', '/usr/lib/python310.zip', '/usr/lib/python3.10', '/usr/lib/python3.10/lib-dynload', '', '/usr/local/lib/python3.10/dist-packages', '/usr/lib/python3/dist-packages', '/usr/local/lib/python3.10/dist-packages/IPython/extensions', '/root/.ipython', '/content/drive/MyDrive/데이터구조및알고리즘', '/content/drive/MyDrive/데이터구조및알고리즘']\n",
            "데구알\n",
            "데이터구조및알고리즘\n"
          ]
        }
      ]
    },
    {
      "cell_type": "code",
      "source": [
        "class Graph:\n",
        "  def __init__(self):\n",
        "    self.adjlink=LinkedList()\n",
        "\n",
        "  class GNode: #Node클래스를 Graph 클래스 안에 만든 이유: 안에서만 사용\n",
        "    def __init__(self,n):\n",
        "      self.name=n\n",
        "\n",
        "    def getName(self):\n",
        "      return self.name\n",
        "\n",
        "    def setName(self, n):\n",
        "      self.name=n\n",
        "\n",
        "  class Edge:\n",
        "    def __init__(self, o, des, dis):\n",
        "      self.ori=o\n",
        "      self.des=des\n",
        "      self.dis=dis\n",
        "\n",
        "    def getOri(self):\n",
        "      return self.ori\n",
        "\n",
        "    def getDes(self):\n",
        "      return self.des\n",
        "\n",
        "    def getDis(self):\n",
        "      return self.dis\n",
        "\n",
        "    def printEdge(self):\n",
        "      print(self.ori.getName(), \",\", self.des.getName(),\",\", self.dis, end='')\n",
        "\n",
        "  def addAdjLink(self, ori, des, dis):\n",
        "    edge=self.Edge(ori, des, dis)\n",
        "    self.adjlink.insertLast(edge)\n",
        "\n",
        "  def printGraph(self):\n",
        "    I=self.adjlink\n",
        "    cur=I.head\n",
        "    while cur != I.trailer:\n",
        "      if cur != I.head:\n",
        "        print(\"[\", end='')\n",
        "        cur.data.printEdge()\n",
        "        print(\"]\")\n",
        "      cur=cur.getNext()\n",
        "\n",
        "\n",
        "\n",
        "if __name__ == '__main__':\n",
        "\n",
        "  def getDist(a, d): #Node a의 거리를 d로부터 찾아옴\n",
        "    for i in range(len(d)):\n",
        "      if (d[i][0].getName()==a.getName()):\n",
        "        return d[i][1]\n",
        "\n",
        "  def setDist(u, d, nd): #거리를 업데이트\n",
        "     for i in range(len(d)):\n",
        "      if (u==d[i][0]):\n",
        "        d[i][1]=nd\n",
        "\n",
        "  def distOf(u, d): #d(거리)참조해서 노드 u까지의 거리값을 반환\n",
        "    for i in range(len(d)):\n",
        "      if (u == d[i][0]):\n",
        "        return d[i][1]\n",
        "\n",
        "  def neighbors(u, g): #graph(g)에서 노드 u의 이웃을 가진 링크를 찾아오는 함수 -> 벡터에 담아 반환\n",
        "    v=MyVector(100) #벡터의 사이즈\n",
        "    l=g.adjlink\n",
        "    cur = l.First()\n",
        "    while cur !=l.Last():\n",
        "      if(u==cur.getElement().getOri()):\n",
        "        v.insertLast(cur.getElement())\n",
        "      cur=cur.getNext()\n",
        "    return v\n",
        "\n",
        "  def minDistance(Q, d):  #갈 수 있는 노드(Q)에서 가장 작은 distance를 return = 최소거리를 갖는 노드를 찾는 것\n",
        "    minimum = 10000\n",
        "    mindistnode = None\n",
        "    cur = Q.head.getNext()\n",
        "    while cur != Q.trailer:\n",
        "      temp=distOf(cur.getElement(), d)\n",
        "      if temp < minimum: #temp가 최소보다 작으면 temp로 변경\n",
        "        minimum=temp\n",
        "        mindistnode=cur\n",
        "      cur=cur.getNext()\n",
        "    return mindistnode\n",
        "\n",
        "  def printLL(Q):\n",
        "      cur=Q.head.getNext()\n",
        "      print(\"[\", end='')\n",
        "      while cur != Q.trailer:\n",
        "        if (cur.next==Q.trailer):\n",
        "          print(cur.data.getName(), end='')\n",
        "        else:\n",
        "          print(cur.data.getName(),',',end='')\n",
        "        cur=cur.getNext()\n",
        "      print(']')\n",
        "\n",
        "\n",
        "\n",
        "\n",
        "#Initialization\n",
        "g=Graph()\n",
        "s=g.GNode(\"s\")\n",
        "a=g.GNode(\"a\")\n",
        "b=g.GNode(\"b\")\n",
        "c=g.GNode(\"c\")\n",
        "d=g.GNode(\"d\")\n",
        "g.addAdjLink(s, a, 10)\n",
        "g.addAdjLink(s, c, 5)\n",
        "g.addAdjLink(a, c, 2)\n",
        "g.addAdjLink(c, a, 3)\n",
        "g.addAdjLink(a, b, 1)\n",
        "g.addAdjLink(c, b, 9)\n",
        "g.addAdjLink(c, d, 2)\n",
        "g.addAdjLink(d, s, 7)\n",
        "g.addAdjLink(b, d, 4)\n",
        "g.addAdjLink(d, b, 6)\n",
        "print(\"Graph inserted===================\")\n",
        "g.printGraph()\n",
        "\n",
        "V =LinkedList()\n",
        "V.insertLast(s)\n",
        "V.insertLast(a)\n",
        "V.insertLast(b)\n",
        "V.insertLast(c)\n",
        "V.insertLast(d)\n",
        "\n",
        "Dist=[]\n",
        "Dist.append([s, 0])\n",
        "Dist.append([a, 1000])\n",
        "Dist.append([b, 1000])\n",
        "Dist.append([c, 1000])\n",
        "Dist.append([d, 1000])\n",
        "\n",
        "Q=V\n",
        "S=LinkedList()\n",
        "\n",
        "print(\"Initial Q:=====================\")\n",
        "printLL(Q)\n",
        "\n",
        "while not Q.isEmpty(): #Q.isEmpty()==False\n",
        "\n",
        "\n",
        "\n",
        "\n",
        "\n",
        "print(\"Min distance by dijstra========\")\n",
        "for i in range(len(Dist)):\n",
        "        print(Dist[i][0].getName(),':', Dist[i][1])\n"
      ],
      "metadata": {
        "id": "IbJNLCW8x4Hz",
        "colab": {
          "base_uri": "https://localhost:8080/"
        },
        "outputId": "07dcba06-0f3b-4e38-ea52-2bcbbe89d6ea"
      },
      "execution_count": null,
      "outputs": [
        {
          "output_type": "stream",
          "name": "stdout",
          "text": [
            "Graph inserted===================\n",
            "[s , a , 10]\n",
            "[s , c , 5]\n",
            "[a , c , 2]\n",
            "[c , a , 3]\n",
            "[a , b , 1]\n",
            "[c , b , 9]\n",
            "[c , d , 2]\n",
            "[d , s , 7]\n",
            "[b , d , 4]\n",
            "[d , b , 6]\n",
            "Initial Q:=====================\n",
            "[s ,a ,b ,c ,d]\n",
            "Min distance by dijstra========\n",
            "s : 0\n",
            "a : 1000\n",
            "b : 1000\n",
            "c : 1000\n",
            "d : 1000\n"
          ]
        }
      ]
    },
    {
      "cell_type": "code",
      "source": [],
      "metadata": {
        "id": "8VlaMNzxt8Il"
      },
      "execution_count": null,
      "outputs": []
    }
  ]
}
