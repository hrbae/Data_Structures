{
  "nbformat": 4,
  "nbformat_minor": 0,
  "metadata": {
    "colab": {
      "provenance": [],
      "include_colab_link": true
    },
    "kernelspec": {
      "name": "python3",
      "display_name": "Python 3"
    },
    "language_info": {
      "name": "python"
    }
  },
  "cells": [
    {
      "cell_type": "markdown",
      "metadata": {
        "id": "view-in-github",
        "colab_type": "text"
      },
      "source": [
        "<a href=\"https://colab.research.google.com/github/hrbae/Data_Structures/blob/main/Code/MyVector.ipynb\" target=\"_parent\"><img src=\"https://colab.research.google.com/assets/colab-badge.svg\" alt=\"Open In Colab\"/></a>"
      ]
    },
    {
      "cell_type": "markdown",
      "source": [
        "#Class\n",
        "\"Classes provide a means of bundling data and functionality together.\""
      ],
      "metadata": {
        "id": "bgpnod0FF3Td"
      }
    },
    {
      "cell_type": "code",
      "execution_count": 1,
      "metadata": {
        "id": "JsGh38bHFzbM"
      },
      "outputs": [],
      "source": [
        "cat1=['coco','yellow',3.4,'short']\n",
        "cat2=['bolt','brown',4.5,'long']"
      ]
    },
    {
      "cell_type": "code",
      "source": [
        "#예시\n",
        "class MyClass:\n",
        "  i='데이터구조및알고리즘' #변수정의\n",
        "\n",
        "  def f(): #함수, 메소드\n",
        "    return '데구알'"
      ],
      "metadata": {
        "id": "7JQvnWQ3GsUp"
      },
      "execution_count": 10,
      "outputs": []
    },
    {
      "cell_type": "code",
      "source": [
        "print(MyClass.f())"
      ],
      "metadata": {
        "colab": {
          "base_uri": "https://localhost:8080/"
        },
        "id": "KqyM2y4lHAlM",
        "outputId": "063dc18a-3a79-4d26-ef64-9848cca0e7fb"
      },
      "execution_count": 11,
      "outputs": [
        {
          "output_type": "stream",
          "name": "stdout",
          "text": [
            "데구알\n"
          ]
        }
      ]
    },
    {
      "cell_type": "code",
      "source": [
        "print(MyClass.i)"
      ],
      "metadata": {
        "colab": {
          "base_uri": "https://localhost:8080/"
        },
        "id": "v23yBWGBHHbg",
        "outputId": "142d9f6b-aa2a-450b-8b8e-8e8e93c6dc85"
      },
      "execution_count": 6,
      "outputs": [
        {
          "output_type": "stream",
          "name": "stdout",
          "text": [
            "데이터구조및알고리즘\n"
          ]
        }
      ]
    },
    {
      "cell_type": "code",
      "source": [
        "class Student:\n",
        "  def __init__(self, d):\n",
        "    self.name = d\n",
        "    self.age=0\n",
        "\n",
        "  def getName(self):\n",
        "    return self.name\n",
        "\n",
        "  def setName(self, new_Name):\n",
        "    self.name=new_Name\n",
        "\n",
        "  def getAge(self):\n",
        "    return self.age\n",
        "\n",
        "  def setAge(self, new_Age):\n",
        "    self.age=new_Age\n"
      ],
      "metadata": {
        "id": "LcvmIQ6DyvEs"
      },
      "execution_count": 13,
      "outputs": []
    },
    {
      "cell_type": "code",
      "source": [
        "st=Student(\"배혜림\")\n",
        "st.setAge(21)\n",
        "print(st.getName())\n",
        "print(st.getAge())"
      ],
      "metadata": {
        "colab": {
          "base_uri": "https://localhost:8080/"
        },
        "id": "ULSIA8kVzweA",
        "outputId": "2e4e77da-610d-4298-d7b8-1bb9769b14c5"
      },
      "execution_count": 14,
      "outputs": [
        {
          "output_type": "stream",
          "name": "stdout",
          "text": [
            "배혜림\n",
            "21\n"
          ]
        }
      ]
    },
    {
      "cell_type": "code",
      "source": [
        "class MyVector:\n",
        "  def __init__(self, d): #initialize(초기화, 입력받는 것)\n",
        "    if isinstance(d, int):\n",
        "      self.coords=[0]*d #실제 데이터가 저장되는 공간\n",
        "      self.size=0 #벡터의 사이즈.\n",
        "    else:\n",
        "      try: #실행하는 문장\n",
        "        self.coords=[val for val in d]\n",
        "      except TypeError: #제외시키는 문장\n",
        "        raise TypeError('invalid parameter type')\n",
        "\n",
        "  def elementAt(self, i):\n",
        "    if self.size!=0 and i>=0 and i<self.size:\n",
        "      return self.coords[i]\n",
        "    else:\n",
        "      print(\"요청한 범위가 올바르지 않습니다.\")\n",
        "\n",
        "  def insertAt(self, i, val): #인덱스 i 위치에 val값을 넣어라.\n",
        "    if self.size==len(self.coords)-1:\n",
        "      print(\"꽉 찼어요\", self.size)\n",
        "      newList=[0]*(len(self.coords)*2)\n",
        "      for j in range(0, self.size):\n",
        "        newList[j]=self.coords[j]\n",
        "      self.coords=newList\n",
        "    if i>=0 and i<=self.size:\n",
        "      for k in range(self.size, i, -1):\n",
        "        self.coords[k]=self.coords[k-1] #k값을 이전 k-1값으로 채운다.\n",
        "      self.coords[i]=val\n",
        "      self.size=self.size+1\n",
        "\n",
        "  def insertLast(self, val):\n",
        "    if self.size==len(self.coords)-1:\n",
        "      print(\"꽉 찼어요.\",val)\n",
        "      newList=[0]*(len(self.coords)*2)\n",
        "      for j in range(0, self.size):\n",
        "        newList[j]=self.coords[j]\n",
        "      self.coords=newList\n",
        "    self.coords[self.size]=val\n",
        "    self.size=self.size+1\n",
        "\n",
        "  def removeAt(self, i):\n",
        "    if self.size==0:\n",
        "      print(\"빈 벡터입니다.\")\n",
        "    else:\n",
        "      if i<0 and i>=self.size:\n",
        "        print(\"잘못된 범위를 요청하였습니다.\")\n",
        "      else:\n",
        "        ret=self.coords[i]\n",
        "        for k in range(i, self.size):\n",
        "          self.coords[k]=self.coords[k+1]\n",
        "        self.size=self.size-1\n",
        "        return ret\n",
        "\n",
        "  def replaceAt(self, i, val):\n",
        "    if i<0 or i>=self.size:\n",
        "      print(\"잘못된 범위를 요청하였습니다.\")\n",
        "    else:\n",
        "      ret=self.coords[i]\n",
        "      self.coords[i]=val\n",
        "      return ret\n",
        "\n",
        "  def printVector(self):\n",
        "    print('[',end='')\n",
        "    for i in range(0, self.size):\n",
        "      if i==self.size-1:\n",
        "        print(self.coords[i],']')\n",
        "      else:\n",
        "        print(self.coords[i], ',', end='')\n",
        "\n",
        "if __name__=='__main__': #인터프리터에 의해 실행이 되는 경우, 해당 구문이 사용된 파이썬 파일을 직접 실행했을 때만 실행시킨다.\n",
        "  mv=MyVector(2)\n",
        "\n",
        "  #mv.insertAt(0,0)\n",
        "  #mv.insertAt(1,1)\n",
        "  #mv.insertAt(2,2)\n",
        "\n",
        "  #print(mv.coords)\n",
        "  for i in range(0,100):\n",
        "    mv.insertAt(i,i)\n",
        "  print(mv.removeAt(50))\n",
        "  print(mv.replaceAt(0,50)) #인덱스 0에 '50'이라는 값을 넣음\n",
        "\n",
        "  mv.printVector()\n",
        "\n",
        "\n"
      ],
      "metadata": {
        "colab": {
          "base_uri": "https://localhost:8080/"
        },
        "id": "zl2gUrLvHU2K",
        "outputId": "137cf000-9ba0-4b60-b571-fc950d5a0803"
      },
      "execution_count": 21,
      "outputs": [
        {
          "output_type": "stream",
          "name": "stdout",
          "text": [
            "꽉 찼어요 1\n",
            "꽉 찼어요 3\n",
            "꽉 찼어요 7\n",
            "꽉 찼어요 15\n",
            "꽉 찼어요 31\n",
            "꽉 찼어요 63\n",
            "50\n",
            "0\n",
            "[50 ,1 ,2 ,3 ,4 ,5 ,6 ,7 ,8 ,9 ,10 ,11 ,12 ,13 ,14 ,15 ,16 ,17 ,18 ,19 ,20 ,21 ,22 ,23 ,24 ,25 ,26 ,27 ,28 ,29 ,30 ,31 ,32 ,33 ,34 ,35 ,36 ,37 ,38 ,39 ,40 ,41 ,42 ,43 ,44 ,45 ,46 ,47 ,48 ,49 ,51 ,52 ,53 ,54 ,55 ,56 ,57 ,58 ,59 ,60 ,61 ,62 ,63 ,64 ,65 ,66 ,67 ,68 ,69 ,70 ,71 ,72 ,73 ,74 ,75 ,76 ,77 ,78 ,79 ,80 ,81 ,82 ,83 ,84 ,85 ,86 ,87 ,88 ,89 ,90 ,91 ,92 ,93 ,94 ,95 ,96 ,97 ,98 ,99 ]\n"
          ]
        }
      ]
    },
    {
      "cell_type": "code",
      "source": [
        "mv=MyVector(10)\n",
        "mv.insertLast(10)\n",
        "mv.insertLast(20)\n",
        "mv.printVector()"
      ],
      "metadata": {
        "colab": {
          "base_uri": "https://localhost:8080/"
        },
        "id": "x1U62Nll3QKC",
        "outputId": "c97e4cd2-5b75-435c-fbd2-36ebd6e830ee"
      },
      "execution_count": 18,
      "outputs": [
        {
          "output_type": "stream",
          "name": "stdout",
          "text": [
            "[10 ,20 ]\n"
          ]
        }
      ]
    }
  ]
}