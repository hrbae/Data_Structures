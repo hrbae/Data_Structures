{
  "nbformat": 4,
  "nbformat_minor": 0,
  "metadata": {
    "colab": {
      "provenance": [],
      "authorship_tag": "ABX9TyN6WQ97Kv2S2ACmxoWWGmbi",
      "include_colab_link": true
    },
    "kernelspec": {
      "name": "python3",
      "display_name": "Python 3"
    },
    "language_info": {
      "name": "python"
    }
  },
  "cells": [
    {
      "cell_type": "markdown",
      "metadata": {
        "id": "view-in-github",
        "colab_type": "text"
      },
      "source": [
        "<a href=\"https://colab.research.google.com/github/doheeeeekim/Data_Structures/blob/main/MyVector.ipynb\" target=\"_parent\"><img src=\"https://colab.research.google.com/assets/colab-badge.svg\" alt=\"Open In Colab\"/></a>"
      ]
    },
    {
      "cell_type": "markdown",
      "source": [
        "#Class\n",
        "\"Classes provide a means of bundling data and functionality together.\""
      ],
      "metadata": {
        "id": "bgpnod0FF3Td"
      }
    },
    {
      "cell_type": "code",
      "execution_count": null,
      "metadata": {
        "id": "JsGh38bHFzbM"
      },
      "outputs": [],
      "source": [
        "cat1=['coco','yellow',3.4,'short']\n",
        "cat2=['bolt','brown',4.5,'long']"
      ]
    },
    {
      "cell_type": "code",
      "source": [
        "#예시\n",
        "class MyClass:\n",
        "  i='데이터구조및알고리즘' #변수정의\n",
        "\n",
        "  def f(self): #함수, 메소드\n",
        "    return '데구알'"
      ],
      "metadata": {
        "id": "7JQvnWQ3GsUp"
      },
      "execution_count": null,
      "outputs": []
    },
    {
      "cell_type": "code",
      "source": [
        "print(MyClass.f(1))"
      ],
      "metadata": {
        "colab": {
          "base_uri": "https://localhost:8080/"
        },
        "id": "KqyM2y4lHAlM",
        "outputId": "54c80a2c-890e-4906-d835-141aca7d6659"
      },
      "execution_count": null,
      "outputs": [
        {
          "output_type": "stream",
          "name": "stdout",
          "text": [
            "데구알\n"
          ]
        }
      ]
    },
    {
      "cell_type": "code",
      "source": [
        "print(MyClass.i)"
      ],
      "metadata": {
        "colab": {
          "base_uri": "https://localhost:8080/"
        },
        "id": "v23yBWGBHHbg",
        "outputId": "6a2c001a-615d-4a59-9a0d-bc0f93bc460a"
      },
      "execution_count": null,
      "outputs": [
        {
          "output_type": "stream",
          "name": "stdout",
          "text": [
            "데이터구조및알고리즘\n"
          ]
        }
      ]
    },
    {
      "cell_type": "code",
      "source": [
        "class MyVector:\n",
        "  def __init__(self, d): #initialize(초기화, 입력받는 것)\n",
        "    if isinstance(d, int):\n",
        "      self.coords=[0]*d #실제 데이터가 저장되는 공간\n",
        "      self.size=0 #벡터의 사이즈.\n",
        "    else:\n",
        "      try: #실행하는 문장\n",
        "        self.coords=[val for val in d]\n",
        "      except TypeError: #제외시키는 문장\n",
        "        raise TypeError('invalid parameter type')\n",
        "\n",
        "  def elementAt(self, i):\n",
        "    if self.size!=0 and i>=0 and i<self.size:\n",
        "      return self.coords[i]\n",
        "    else:\n",
        "      print(\"요청한 범위가 올바르지 않습니다.\")\n",
        "\n",
        "  def insertAt(self, i, val): #인덱스 i 위치에 val값을 넣어라.\n",
        "    if self.size==len(self.coords)-1:\n",
        "      print(\"꽉 찼어요\", self.size)\n",
        "      newList=[0]*(len(self.coords)*2)\n",
        "      for j in range(0, self.size):\n",
        "        newList[j]=self.coords[j]\n",
        "      self.coords=newList\n",
        "    if i>=0 and i<=self.size:\n",
        "      for k in range(self.size, i, -1):\n",
        "        self.coords[k]=self.coords[k-1] #k값을 이전 k-1값으로 채운다.\n",
        "      self.coords[i]=val\n",
        "      self.size=self.size+1\n",
        "\n",
        "  def insertLast(self, val):\n",
        "    if self.size==len(self.coords)-1:\n",
        "      print(\"꽉 찼어요.\",val)\n",
        "      newList=[0]*(len(self.coords)*2)\n",
        "      for j in range(0, self.size):\n",
        "        newList[j]=self.coords[j]\n",
        "        self.coords=newList\n",
        "      self.coords[self.size]=val\n",
        "      self.size=self.size+1\n",
        "\n",
        "  def removeAt(self, i):\n",
        "    if self.size==0:\n",
        "      print(\"빈 벡터입니다.\")\n",
        "    else:\n",
        "      if i<0 and i>=self.size:\n",
        "        print(\"잘못된 범위를 요청하였습니다.\")\n",
        "      else:\n",
        "        for k in range(i, self.size):\n",
        "          self.coords[k]=self.coords[k+1]\n",
        "        self.size=self.size-1\n",
        "\n",
        "  def replaceAt(self, i, val):\n",
        "    if i<0 or i>=self.size:\n",
        "      print(\"잘못된 범위를 요청하였습니다.\")\n",
        "    else:\n",
        "      self.coords[i]=val\n",
        "\n",
        "  def printVector(self):\n",
        "    print('[',end='')\n",
        "    for i in range(0, self.size):\n",
        "      if i==self.size-1:\n",
        "        print(self.coords[i],']')\n",
        "      else:\n",
        "        print(self.coords[i], ',', end='')\n",
        "\n",
        "if __name__=='__main__': #인터프리터에 의해 실행이 되는 경우, 해당 구문이 사용된 파이썬 파일을 직접 실행했을 때만 실행시킨다.\n",
        "  mv=MyVector(2)\n",
        "\n",
        "  #mv.insertAt(0,0)\n",
        "  #mv.insertAt(1,1)\n",
        "  #mv.insertAt(2,2)\n",
        "\n",
        "  #print(mv.coords)\n",
        "  for i in range(0,100):\n",
        "    mv.insertAt(i,i)\n",
        "  mv.removeAt(50)\n",
        "  mv.replaceAt(0,50) #인덱스 0에 '50'이라는 값을 넣음\n",
        "\n",
        "  mv.printVector()\n",
        "\n",
        "\n"
      ],
      "metadata": {
        "colab": {
          "base_uri": "https://localhost:8080/"
        },
        "id": "zl2gUrLvHU2K",
        "outputId": "6c371420-0f7d-40e5-d3ef-ca80169d63a8"
      },
      "execution_count": null,
      "outputs": [
        {
          "output_type": "stream",
          "name": "stdout",
          "text": [
            "꽉 찼어요 1\n",
            "꽉 찼어요 3\n",
            "꽉 찼어요 7\n",
            "꽉 찼어요 15\n",
            "꽉 찼어요 31\n",
            "꽉 찼어요 63\n",
            "[50 ,1 ,2 ,3 ,4 ,5 ,6 ,7 ,8 ,9 ,10 ,11 ,12 ,13 ,14 ,15 ,16 ,17 ,18 ,19 ,20 ,21 ,22 ,23 ,24 ,25 ,26 ,27 ,28 ,29 ,30 ,31 ,32 ,33 ,34 ,35 ,36 ,37 ,38 ,39 ,40 ,41 ,42 ,43 ,44 ,45 ,46 ,47 ,48 ,49 ,51 ,52 ,53 ,54 ,55 ,56 ,57 ,58 ,59 ,60 ,61 ,62 ,63 ,64 ,65 ,66 ,67 ,68 ,69 ,70 ,71 ,72 ,73 ,74 ,75 ,76 ,77 ,78 ,79 ,80 ,81 ,82 ,83 ,84 ,85 ,86 ,87 ,88 ,89 ,90 ,91 ,92 ,93 ,94 ,95 ,96 ,97 ,98 ,99 ]\n"
          ]
        }
      ]
    }
  ]
}
